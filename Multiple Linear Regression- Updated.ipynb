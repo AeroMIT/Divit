{
 "cells": [
  {
   "cell_type": "code",
   "execution_count": 189,
   "id": "68cab2a5-7d1b-49bb-8403-14a1a5864eec",
   "metadata": {},
   "outputs": [],
   "source": [
    "import pandas as pd\n",
    "import numpy as np\n",
    "import matplotlib.pyplot as plt"
   ]
  },
  {
   "cell_type": "code",
   "execution_count": 190,
   "id": "ea6aed64-5140-4499-aa56-0a7c90291081",
   "metadata": {},
   "outputs": [],
   "source": [
    "def gradient_descent(X, Y, alpha, epochs, theta):\n",
    "\n",
    "    m=len(Y)\n",
    "    errors = list()\n",
    "    for i in range(epochs):\n",
    "        #Calculating predictions:\n",
    "        predictions = X.dot(theta)\n",
    "        #Calculating MSE for these predictions:\n",
    "        err = (1/m) * np.sum((predictions - Y) ** 2) \n",
    "        errors.append(err)\n",
    "\n",
    "        #Calculating the gradient of the cost function:\n",
    "        gradient = (2/m) * X.T.dot(X.dot(theta) - Y)\n",
    "\n",
    "        theta -= gradient * alpha\n",
    "\n",
    "    return theta.copy(), errors"
   ]
  },
  {
   "cell_type": "code",
   "execution_count": 212,
   "id": "37192ca6-2584-4801-8d57-73e049fab8f0",
   "metadata": {},
   "outputs": [],
   "source": [
    "def ridge_gradient_descent(X, Y, alpha, epochs, theta, lambda_):\n",
    "    m = len(Y)\n",
    "    errors = []\n",
    "\n",
    "    for i in range(epochs):\n",
    "        predictions = X.dot(theta)\n",
    "        \n",
    "        # Compute Mean Squared Error\n",
    "        error = (1 / m) * np.sum((predictions - Y) ** 2) \n",
    "        errors.append(error)\n",
    "        \n",
    "        # Compute Gradient with Ridge Regularization (L2 Penalty)\n",
    "        gradient = (2 / m) * X.T.dot(predictions - Y) + (2 * lambda_ * theta)**2\n",
    "\n",
    "        # Update Weights\n",
    "        theta -= alpha * gradient\n",
    "\n",
    "    return theta, errors\n"
   ]
  },
  {
   "cell_type": "code",
   "execution_count": 213,
   "id": "7d9600c9-69e7-490f-822c-f35754127b81",
   "metadata": {},
   "outputs": [],
   "source": [
    "def calc_r2(predictions, Y):\n",
    "    tss = np.sum((Y - np.mean(Y)) ** 2)\n",
    "    ess = np.sum((Y - predictions) ** 2)\n",
    "    r2= 1 - (ess / tss)\n",
    "    return r2"
   ]
  },
  {
   "cell_type": "code",
   "execution_count": 237,
   "id": "959bac5a-f16b-4ff6-8ec9-cf82fefe9ae8",
   "metadata": {},
   "outputs": [],
   "source": [
    "#Implementing batch normalisation: \n",
    "\n",
    "def batch_normalisation(dataframe):\n",
    "    cnt=0\n",
    "    r2list = list()\n",
    "    paramlist = list()\n",
    "    while(cnt<dataframe.shape[0]):\n",
    "        minibatch = dataframe[cnt:cnt+50]\n",
    "        #print(minibatch)\n",
    "        X = minibatch.drop('OverallQual', axis=1).values\n",
    "        Y = minibatch['OverallQual'].values\n",
    "        cnt+= 50\n",
    "        # Now we have to standardise X:\n",
    "        X = (X - X.mean(axis=0)) / X.std(axis=0)\n",
    "\n",
    "        # Adding a column of ones at the start for intercept:\n",
    "        one_col = np.ones((X.shape[0],1))\n",
    "        X = np.hstack((one_col, X))\n",
    "        theta = np.zeros(X.shape[1])\n",
    "\n",
    "        alpha = 0.01\n",
    "        epochs = 5000\n",
    "        lambda_ = 0.01\n",
    "\n",
    "        # Calling gradient descent function for this minibatch:\n",
    "        thet, errs = ridge_gradient_descent(X, Y, alpha, epochs, theta,lambda_)\n",
    "        paramlist.append(thet)\n",
    "        predictions = X.dot(thet)\n",
    "        x = calc_r2(predictions, Y)\n",
    "        r2list.append(x)\n",
    "    plt.plot(r2list)\n",
    "    print(max(r2list))\n",
    "    maxindex = 0\n",
    "    for i in range(len(r2list)):\n",
    "        if r2list[i] == max(r2list):\n",
    "            maxindex = i\n",
    "    bestparams = paramlist[9] #replace this with maxindex after testing\n",
    "    return bestparams"
   ]
  },
  {
   "cell_type": "code",
   "execution_count": 238,
   "id": "bf36e019-03be-40f9-82f3-bdb5b2947f58",
   "metadata": {},
   "outputs": [
    {
     "name": "stdout",
     "output_type": "stream",
     "text": [
      "0.8913824899684156\n",
      "(11,)\n"
     ]
    },
    {
     "data": {
      "image/png": "[encoded data removed]",
      "text/plain": [
       "<Figure size 640x480 with 1 Axes>"
      ]
     },
     "metadata": {},
     "output_type": "display_data"
    }
   ],
   "source": [
    "trss = pd.read_csv('train.csv')\n",
    "weights = batch_normalisation(trss)\n",
    "weights = np.array(weights)\n",
    "print(weights.shape)"
   ]
  },
  {
   "cell_type": "code",
   "execution_count": 239,
   "id": "a35e2dd1-6dd3-4a8f-9ee7-98e644ea1057",
   "metadata": {},
   "outputs": [
    {
     "name": "stdout",
     "output_type": "stream",
     "text": [
      "[ 6.03272125  0.57471318  0.24011457 -0.0838595   0.70777976 -0.35284126\n",
      "  0.0082629  -0.06642544  0.30160378  0.25819737  0.0680133 ]\n",
      "(292, 11)\n",
      "0.5743364613119453\n"
     ]
    }
   ],
   "source": [
    "testdata = pd.read_csv('test.csv')\n",
    "print(weights)\n",
    "xnew = testdata.drop('OverallQual', axis=1).values\n",
    "ynew = testdata['OverallQual'].values\n",
    "\n",
    "xnew = (xnew - xnew.mean(axis=0)) / xnew.std(axis=0)\n",
    "\n",
    "ones_column = np.ones((xnew.shape[0], 1))\n",
    "xnew = np.hstack((ones_column, xnew))\n",
    "\n",
    "predictnew = xnew.dot(weights)\n",
    "print(xnew.shape)\n",
    "print(calc_r2(predictnew, ynew))"
   ]
  },
  {
   "cell_type": "code",
   "execution_count": null,
   "id": "fe14d449-94c6-4856-8a76-404f515755c1",
   "metadata": {},
   "outputs": [],
   "source": []
  }
 ],
 "metadata": {
  "kernelspec": {
   "display_name": "Python 3.13",
   "language": "python",
   "name": "python3.13"
  },
  "language_info": {
   "codemirror_mode": {
    "name": "ipython",
    "version": 3
   },
   "file_extension": ".py",
   "mimetype": "text/x-python",
   "name": "python",
   "nbconvert_exporter": "python",
   "pygments_lexer": "ipython3",
   "version": "3.13.1"
  }
 },
 "nbformat": 4,
 "nbformat_minor": 5
}
